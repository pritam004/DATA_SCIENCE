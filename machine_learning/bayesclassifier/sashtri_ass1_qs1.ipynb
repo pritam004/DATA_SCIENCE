{
  "nbformat": 4,
  "nbformat_minor": 0,
  "metadata": {
    "colab": {
      "name": "sashtri_ass1_qs1.ipynb",
      "provenance": [],
      "collapsed_sections": []
    },
    "kernelspec": {
      "name": "python3",
      "display_name": "Python 3"
    }
  },
  "cells": [
    {
      "cell_type": "markdown",
      "metadata": {
        "id": "65KBnFb8ogvf",
        "colab_type": "text"
      },
      "source": [
        "**mounting gdrive**"
      ]
    },
    {
      "cell_type": "code",
      "metadata": {
        "id": "2C37I43Yfqxz",
        "colab_type": "code",
        "outputId": "068f5ac4-fe3e-4df4-8d11-f588c026b900",
        "colab": {
          "base_uri": "https://localhost:8080/",
          "height": 122
        }
      },
      "source": [
        "\n",
        "from google.colab import drive\n",
        "\n",
        "drive.mount('/content/gdrive' ,force_remount=True)\n"
      ],
      "execution_count": 0,
      "outputs": [
        {
          "output_type": "stream",
          "text": [
            "Go to this URL in a browser: https://accounts.google.com/o/oauth2/auth?client_id=947318989803-6bn6qk8qdgf4n4g3pfee6491hc0brc4i.apps.googleusercontent.com&redirect_uri=urn%3aietf%3awg%3aoauth%3a2.0%3aoob&response_type=code&scope=email%20https%3a%2f%2fwww.googleapis.com%2fauth%2fdocs.test%20https%3a%2f%2fwww.googleapis.com%2fauth%2fdrive%20https%3a%2f%2fwww.googleapis.com%2fauth%2fdrive.photos.readonly%20https%3a%2f%2fwww.googleapis.com%2fauth%2fpeopleapi.readonly\n",
            "\n",
            "Enter your authorization code:\n",
            "··········\n",
            "Mounted at /content/gdrive\n"
          ],
          "name": "stdout"
        }
      ]
    },
    {
      "cell_type": "code",
      "metadata": {
        "id": "4Qs9FMCz_cMt",
        "colab_type": "code",
        "colab": {}
      },
      "source": [
        ""
      ],
      "execution_count": 0,
      "outputs": []
    },
    {
      "cell_type": "markdown",
      "metadata": {
        "id": "_MrdYx9oS2sP",
        "colab_type": "text"
      },
      "source": [
        "**imports**"
      ]
    },
    {
      "cell_type": "code",
      "metadata": {
        "id": "Ag_F5eldS2_0",
        "colab_type": "code",
        "colab": {}
      },
      "source": [
        "import numpy as np, math,re,random\n",
        "import scipy.spatial\n",
        "from sklearn.mixture import GaussianMixture"
      ],
      "execution_count": 0,
      "outputs": []
    },
    {
      "cell_type": "markdown",
      "metadata": {
        "id": "d-hRwl4voa05",
        "colab_type": "text"
      },
      "source": [
        "**taking input**"
      ]
    },
    {
      "cell_type": "code",
      "metadata": {
        "id": "4iCShAbvgAdy",
        "colab_type": "code",
        "outputId": "ec4b2e44-80a4-4080-f24f-ae76d298848a",
        "colab": {
          "base_uri": "https://localhost:8080/",
          "height": 71
        }
      },
      "source": [
        "\n",
        "\n",
        "\n",
        "with open('/content/gdrive/My Drive/datasets/prnnass1/P1a_test_data_2D.txt') as file:\n",
        "    array2d = [[digit for digit in re.split(',|\\n',line)] for line in file]\n",
        "matrix=[]\n",
        "for i in range(len(array2d)):\n",
        "  temp=[]\n",
        "  for j in range (3):\n",
        "    temp.append(float(array2d[i][j]))\n",
        "  matrix.append(temp)\n",
        "\n",
        "print(matrix)\n",
        "matrix=np.array(matrix)\n",
        "no_of_ele=len(matrix)\n",
        "matrix.shape"
      ],
      "execution_count": 0,
      "outputs": [
        {
          "output_type": "stream",
          "text": [
            "[[0.059, 0.4532, 1.0], [-1.234, -0.1377, 1.0], [1.1535, 1.1037, 1.0], [-0.6642, 1.4021, 1.0], [0.8231, -0.6175, 1.0], [-0.3612, -0.7085, 1.0], [-0.1505, 0.0523, 1.0], [-1.1616, -1.5282, 1.0], [0.3352, 0.8145, 1.0], [1.0757, 0.2885, 1.0], [-0.2241, -0.2479, 1.0], [-0.9179, 0.907, 1.0], [-0.542, 0.2571, 1.0], [0.1537, -0.8303, 1.0], [0.1856, 0.3454, 1.0], [-0.6904, -0.8166, 1.0], [1.9039, 0.5624, 1.0], [1.8911, 1.5117, 1.0], [-1.8708, -0.7566, 1.0], [1.6273, -0.6965, 1.0], [0.044, -0.3293, 1.0], [-0.2897, 0.6444, 1.0], [-1.101, -1.7142, 1.0], [1.3077, -1.3357, 1.0], [-1.8993, -1.2741, 1.0], [-1.1786, -0.2491, 1.0], [0.1103, 0.3913, 1.0], [0.3947, 0.8929, 1.0], [-0.2708, 0.6765, 1.0], [0.5804, -0.8824, 1.0], [0.2588, 0.4261, 1.0], [-0.9292, -0.5895, 1.0], [1.2864, 1.0852, 1.0], [0.1484, 0.959, 1.0], [1.0762, 0.5385, 1.0], [-1.1322, -1.7471, 1.0], [-0.8071, -0.3929, 1.0], [0.0752, -0.3767, 1.0], [0.7561, 0.1229, 1.0], [-0.6624, -1.3317, 1.0], [-0.2024, -0.0449, 1.0], [-0.4149, 0.2713, 1.0], [1.9623, 0.2378, 1.0], [0.2662, 0.3259, 1.0], [-0.1091, 1.6498, 1.0], [1.0224, -0.0303, 1.0], [-1.3292, -1.0141, 1.0], [0.1328, 0.1222, 1.0], [-0.0504, -1.284, 1.0], [0.5355, 0.1087, 1.0], [-0.7927, -2.286, 1.0], [0.7395, 1.0198, 1.0], [0.6065, 0.4615, 1.0], [2.1883, 1.998, 1.0], [0.3394, 0.1344, 1.0], [1.3175, -0.1256, 1.0], [-0.6541, 0.0835, 1.0], [0.0108, 0.1884, 1.0], [0.6138, -0.4435, 1.0], [-0.4788, -0.1493, 1.0], [1.0535, 2.03, 1.0], [-0.3816, -1.0964, 1.0], [-0.7035, -1.0927, 1.0], [-0.1598, 0.2408, 1.0], [1.6025, 0.7955, 1.0], [-0.5992, 0.4525, 1.0], [0.2535, 1.6253, 1.0], [0.7253, 0.0582, 1.0], [-1.9073, -1.6564, 1.0], [0.4616, -0.3293, 1.0], [-0.3879, -0.5994, 1.0], [-0.7127, -1.4922, 1.0], [0.1539, -0.4523, 1.0], [-2.9262, -2.0354, 1.0], [1.8669, 1.2196, 1.0], [-0.417, -0.6116, 1.0], [0.3291, 2.0732, 1.0], [1.3635, 2.6839, 1.0], [-0.3393, -0.6038, 1.0], [0.4449, -0.6064, 1.0], [-0.1879, 0.1038, 1.0], [1.2167, -0.3471, 1.0], [-0.7418, 0.3762, 1.0], [-0.672, -0.379, 1.0], [0.5503, -0.0473, 1.0], [-0.0465, 0.0915, 1.0], [-0.6467, -0.1116, 1.0], [1.1373, -0.5366, 1.0], [1.2343, 0.8958, 1.0], [1.4726, 1.0978, 1.0], [0.2942, -0.7204, 1.0], [-0.2897, -1.244, 1.0], [-0.4013, 0.1522, 1.0], [1.5026, 0.4952, 1.0], [-1.6979, 1.0846, 1.0], [1.049, 0.7713, 1.0], [-0.8663, -0.272, 1.0], [1.2888, 1.1199, 1.0], [-0.7509, 0.0311, 1.0], [1.0313, 2.5016, 1.0], [-0.0414, 2.9826, -1.0], [-0.5339, 1.5413, -1.0], [1.1392, 0.0842, -1.0], [0.3406, 1.6996, -1.0], [-0.0701, 0.1606, -1.0], [1.529, -2.2512, -1.0], [2.8339, 0.4741, -1.0], [2.7213, 4.6825, -1.0], [0.7934, 1.1501, -1.0], [-0.6407, 0.9172, -1.0], [1.7236, 2.8157, -1.0], [0.0058, 2.6708, -1.0], [-0.822, -1.174, -1.0], [0.9798, 3.2276, -1.0], [1.2796, 0.5509, -1.0], [0.3749, 1.0159, -1.0], [2.4927, 1.2914, -1.0], [0.1396, -1.5895, -1.0], [1.8457, 3.981, -1.0], [1.3641, 1.4805, -1.0], [1.6896, 1.4915, -1.0], [2.4093, 3.3871, -1.0], [-0.4493, 2.3974, -1.0], [1.5359, 0.3107, -1.0], [1.7621, 2.386, -1.0], [2.1315, -1.8701, -1.0], [1.4716, -0.424, -1.0], [2.088, 1.1743, -1.0], [3.0957, 0.6841, -1.0], [1.6319, -0.7627, -1.0], [0.3022, 2.3502, -1.0], [1.8546, 0.1549, -1.0], [1.1227, 1.4848, -1.0], [0.5983, -1.057, -1.0], [-0.5175, -1.5656, -1.0], [1.5125, -1.2139, -1.0], [2.2816, 1.7391, -1.0], [1.1818, 1.5757, -1.0], [1.0991, 0.6271, -1.0], [1.387, 0.582, -1.0], [2.8875, -0.4581, -1.0], [-1.5481, 4.027, -1.0], [2.1013, 2.4068, -1.0], [1.1428, 1.7744, -1.0], [-1.0076, 0.1449, -1.0], [0.7238, 1.6117, -1.0], [1.6498, -2.1629, -1.0], [1.5463, 0.1646, -1.0], [1.4325, 1.1291, -1.0], [1.1705, -0.8811, -1.0], [1.4513, 1.4176, -1.0], [0.9927, 1.2979, -1.0], [-1.4172, 3.908, -1.0], [0.0427, 1.6255, -1.0], [1.7118, 1.0556, -1.0], [1.2636, -0.3827, -1.0], [0.282, 3.02, -1.0], [1.5125, 1.0471, -1.0], [-0.0422, 3.2683, -1.0], [1.4634, 1.1189, -1.0], [1.8371, 2.229, -1.0], [2.2542, 0.7423, -1.0], [2.7927, 1.5321, -1.0], [0.9695, -0.8775, -1.0], [0.597, 0.2257, -1.0], [-0.4937, -0.5724, -1.0], [-0.5451, -1.3489, -1.0], [-0.1445, 0.3691, -1.0], [1.0911, 3.5077, -1.0], [0.2845, 0.1837, -1.0], [1.4757, 1.6031, -1.0], [1.3794, 3.4171, -1.0], [0.4157, 2.502, -1.0], [2.5158, 1.3358, -1.0], [-0.4174, 1.9927, -1.0], [1.2832, 3.5981, -1.0], [0.129, -1.2963, -1.0], [0.5302, 0.6728, -1.0], [-0.8238, 2.2651, -1.0], [0.0262, 3.0206, -1.0], [2.0586, 3.0589, -1.0], [1.4932, 3.2424, -1.0], [1.7179, 0.4939, -1.0], [1.6556, 1.5513, -1.0], [1.0296, 2.0626, -1.0], [-0.2384, -1.4949, -1.0], [1.8592, -0.7442, -1.0], [2.0072, -0.0832, -1.0], [-0.751, 0.0241, -1.0], [-0.0645, 2.2787, -1.0], [-0.6769, 0.5677, -1.0], [3.8848, 1.3007, -1.0], [0.7772, 0.4887, -1.0], [-0.9495, 1.6664, -1.0], [-0.0373, -1.1451, -1.0], [0.9901, 1.7992, -1.0], [3.1317, -1.4497, -1.0], [3.1359, 1.3764, -1.0], [1.5973, 2.4784, -1.0], [0.3944, -2.5013, -1.0]]\n"
          ],
          "name": "stdout"
        },
        {
          "output_type": "execute_result",
          "data": {
            "text/plain": [
              "(200, 3)"
            ]
          },
          "metadata": {
            "tags": []
          },
          "execution_count": 149
        }
      ]
    },
    {
      "cell_type": "markdown",
      "metadata": {
        "id": "9K9ovlysTPUq",
        "colab_type": "text"
      },
      "source": [
        "radom  number generator "
      ]
    },
    {
      "cell_type": "code",
      "metadata": {
        "id": "C-opB72yTPho",
        "colab_type": "code",
        "colab": {}
      },
      "source": [
        "def random_gen(num):\n",
        "  ran=[]\n",
        "  ran=random.sample(range(1, no_of_ele), num)\n",
        "  return ran"
      ],
      "execution_count": 0,
      "outputs": []
    },
    {
      "cell_type": "markdown",
      "metadata": {
        "id": "64wHVYPZo0Ht",
        "colab_type": "text"
      },
      "source": [
        "**estimating mu**"
      ]
    },
    {
      "cell_type": "code",
      "metadata": {
        "id": "-dUp9zK_CYem",
        "colab_type": "code",
        "colab": {}
      },
      "source": [
        "def em_algo():\n",
        "  # plt.plot(matrix[:,0], matrix[:,1], 'bx')\n",
        "  # plt.axis('equal')\n",
        "  # plt.show()\n",
        "\n",
        "\n",
        "\n",
        "  gmm = GaussianMixture(n_components=2)\n",
        "  gmm.fit(matrix[:,:2])\n",
        "\n",
        "  print(gmm.means_)\n",
        "  print('\\n')\n",
        "  print(gmm.covariances_)\n",
        "  return gmm.covariances_[0],gmm.covariances_[1],gmm.means_[0],gmm.means_[1]\n",
        "\n",
        "\n",
        "\n",
        "\n",
        "# X, Y = np.meshgrid(np.linspace(-1, 6), np.linspace(-1,6))\n",
        "# XX = np.array([X.ravel(), Y.ravel()]).T\n",
        "# Z = gmm.score_samples(XX)\n",
        "# Z = Z.reshape((50,50))\n",
        " \n",
        "# plt.contour(X, Y, Z)\n",
        "# plt.scatter(matrix[:, 0], matrix[:, 1])\n",
        " \n",
        "# plt.show()\n",
        "# y_pred = gmm.fit(matrix[:,:2],matrix[:,2]).predict(matrix_test[:,:2])\n",
        "# print((matrix[:,2] != y_pred).sum())"
      ],
      "execution_count": 0,
      "outputs": []
    },
    {
      "cell_type": "code",
      "metadata": {
        "id": "XzEhRPesqYuu",
        "colab_type": "code",
        "colab": {}
      },
      "source": [
        "def est_lamda(ran):\n",
        "  mu1,mu2,ran=est_mu(ran)\n",
        "  lam=[0,0]\n",
        "  lam[0]=1/mu1[0]\n",
        "  lam[1]=1/mu1[1]\n",
        "return lam"
      ],
      "execution_count": 0,
      "outputs": []
    },
    {
      "cell_type": "code",
      "metadata": {
        "id": "lH_rhKbugr8Y",
        "colab_type": "code",
        "colab": {}
      },
      "source": [
        "def est_mu(ran):\n",
        "  mu1=[]\n",
        "  mu2=[]\n",
        "  #num=len(matrix)\n",
        "  s1=0\n",
        "  s2=0\n",
        "  s3=0\n",
        "  s4=0\n",
        "  c1=0\n",
        "  c2=0\n",
        "  #ran=[]\n",
        "\n",
        "  #ran=random.sample(range(1, no_of_ele), num)\n",
        "  for i in ran :\n",
        "    if matrix[int(i)][2]==1:\n",
        "      s1+=matrix[i][0]\n",
        "      s2+=matrix[i][1]\n",
        "      c1+=1\n",
        "    else:\n",
        "      s3+=matrix[i][0]\n",
        "      s4+=matrix[i][1]\n",
        "      c2+=1\n",
        "  if c1!=0:\n",
        "    s1/=c1\n",
        "    s2/=c1\n",
        "  if c2!=0:\n",
        "    s3/=c2\n",
        "    s4/=c2\n",
        "\n",
        "  return [s1,s2],[s3,s4],ran\n"
      ],
      "execution_count": 0,
      "outputs": []
    },
    {
      "cell_type": "markdown",
      "metadata": {
        "id": "trTzrYI7XQbJ",
        "colab_type": "text"
      },
      "source": [
        "**estimating covariance**"
      ]
    },
    {
      "cell_type": "code",
      "metadata": {
        "id": "oN8ZjqyjXWz2",
        "colab_type": "code",
        "colab": {}
      },
      "source": [
        "def est_cov(num):\n",
        "  mu1,mu2,ran=est_mu(num)\n",
        "  cov1=np.zeros((len(mu1),len(mu1)))\n",
        "  cov2=np.zeros((len(mu2),len(mu2)))\n",
        "  c1=0\n",
        "  c2=0\n",
        "  #print(matrix[1][:2]-mu1)\n",
        "  for i in ran:\n",
        "    if matrix[i][2]==1:\n",
        "      cov1+=np.outer((matrix[i][:2]-mu1),(matrix[i][:2]-mu1))\n",
        "      c1+=1\n",
        "    else:\n",
        "      cov2+=np.outer((matrix[i][:2]-mu2),(matrix[i][:2]-mu2))\n",
        "      c2+=1\n",
        "  print(mu1)\n",
        "  return cov1/c1,cov2/c2,mu1,mu2\n",
        "# print(est_cov(10))"
      ],
      "execution_count": 0,
      "outputs": []
    },
    {
      "cell_type": "markdown",
      "metadata": {
        "id": "tkSJ2nYZuFXh",
        "colab_type": "text"
      },
      "source": [
        "**taking test**"
      ]
    },
    {
      "cell_type": "code",
      "metadata": {
        "id": "7DJon6uuuIMV",
        "colab_type": "code",
        "outputId": "f65ce3a6-2ed5-469a-b09e-f394fa0796d9",
        "colab": {
          "base_uri": "https://localhost:8080/",
          "height": 71
        }
      },
      "source": [
        "import numpy as np, math,re\n",
        "with open('/content/gdrive/My Drive/datasets/prnnass1/P1a_test_data_2D.txt') as file:\n",
        "    array2d = [[digit for digit in re.split(',|\\n',line)] for line in file]\n",
        "matrix_test=[]\n",
        "for i in range(len(array2d)):\n",
        "  temp=[]\n",
        "  for j in range (3):\n",
        "    temp.append(float(array2d[i][j]))\n",
        "  matrix_test.append(temp)\n",
        "\n",
        "print(matrix_test)\n",
        "matrix_test=np.array(matrix_test)\n",
        "matrix_test.shape"
      ],
      "execution_count": 0,
      "outputs": [
        {
          "output_type": "stream",
          "text": [
            "[[0.059, 0.4532, 1.0], [-1.234, -0.1377, 1.0], [1.1535, 1.1037, 1.0], [-0.6642, 1.4021, 1.0], [0.8231, -0.6175, 1.0], [-0.3612, -0.7085, 1.0], [-0.1505, 0.0523, 1.0], [-1.1616, -1.5282, 1.0], [0.3352, 0.8145, 1.0], [1.0757, 0.2885, 1.0], [-0.2241, -0.2479, 1.0], [-0.9179, 0.907, 1.0], [-0.542, 0.2571, 1.0], [0.1537, -0.8303, 1.0], [0.1856, 0.3454, 1.0], [-0.6904, -0.8166, 1.0], [1.9039, 0.5624, 1.0], [1.8911, 1.5117, 1.0], [-1.8708, -0.7566, 1.0], [1.6273, -0.6965, 1.0], [0.044, -0.3293, 1.0], [-0.2897, 0.6444, 1.0], [-1.101, -1.7142, 1.0], [1.3077, -1.3357, 1.0], [-1.8993, -1.2741, 1.0], [-1.1786, -0.2491, 1.0], [0.1103, 0.3913, 1.0], [0.3947, 0.8929, 1.0], [-0.2708, 0.6765, 1.0], [0.5804, -0.8824, 1.0], [0.2588, 0.4261, 1.0], [-0.9292, -0.5895, 1.0], [1.2864, 1.0852, 1.0], [0.1484, 0.959, 1.0], [1.0762, 0.5385, 1.0], [-1.1322, -1.7471, 1.0], [-0.8071, -0.3929, 1.0], [0.0752, -0.3767, 1.0], [0.7561, 0.1229, 1.0], [-0.6624, -1.3317, 1.0], [-0.2024, -0.0449, 1.0], [-0.4149, 0.2713, 1.0], [1.9623, 0.2378, 1.0], [0.2662, 0.3259, 1.0], [-0.1091, 1.6498, 1.0], [1.0224, -0.0303, 1.0], [-1.3292, -1.0141, 1.0], [0.1328, 0.1222, 1.0], [-0.0504, -1.284, 1.0], [0.5355, 0.1087, 1.0], [-0.7927, -2.286, 1.0], [0.7395, 1.0198, 1.0], [0.6065, 0.4615, 1.0], [2.1883, 1.998, 1.0], [0.3394, 0.1344, 1.0], [1.3175, -0.1256, 1.0], [-0.6541, 0.0835, 1.0], [0.0108, 0.1884, 1.0], [0.6138, -0.4435, 1.0], [-0.4788, -0.1493, 1.0], [1.0535, 2.03, 1.0], [-0.3816, -1.0964, 1.0], [-0.7035, -1.0927, 1.0], [-0.1598, 0.2408, 1.0], [1.6025, 0.7955, 1.0], [-0.5992, 0.4525, 1.0], [0.2535, 1.6253, 1.0], [0.7253, 0.0582, 1.0], [-1.9073, -1.6564, 1.0], [0.4616, -0.3293, 1.0], [-0.3879, -0.5994, 1.0], [-0.7127, -1.4922, 1.0], [0.1539, -0.4523, 1.0], [-2.9262, -2.0354, 1.0], [1.8669, 1.2196, 1.0], [-0.417, -0.6116, 1.0], [0.3291, 2.0732, 1.0], [1.3635, 2.6839, 1.0], [-0.3393, -0.6038, 1.0], [0.4449, -0.6064, 1.0], [-0.1879, 0.1038, 1.0], [1.2167, -0.3471, 1.0], [-0.7418, 0.3762, 1.0], [-0.672, -0.379, 1.0], [0.5503, -0.0473, 1.0], [-0.0465, 0.0915, 1.0], [-0.6467, -0.1116, 1.0], [1.1373, -0.5366, 1.0], [1.2343, 0.8958, 1.0], [1.4726, 1.0978, 1.0], [0.2942, -0.7204, 1.0], [-0.2897, -1.244, 1.0], [-0.4013, 0.1522, 1.0], [1.5026, 0.4952, 1.0], [-1.6979, 1.0846, 1.0], [1.049, 0.7713, 1.0], [-0.8663, -0.272, 1.0], [1.2888, 1.1199, 1.0], [-0.7509, 0.0311, 1.0], [1.0313, 2.5016, 1.0], [-0.0414, 2.9826, -1.0], [-0.5339, 1.5413, -1.0], [1.1392, 0.0842, -1.0], [0.3406, 1.6996, -1.0], [-0.0701, 0.1606, -1.0], [1.529, -2.2512, -1.0], [2.8339, 0.4741, -1.0], [2.7213, 4.6825, -1.0], [0.7934, 1.1501, -1.0], [-0.6407, 0.9172, -1.0], [1.7236, 2.8157, -1.0], [0.0058, 2.6708, -1.0], [-0.822, -1.174, -1.0], [0.9798, 3.2276, -1.0], [1.2796, 0.5509, -1.0], [0.3749, 1.0159, -1.0], [2.4927, 1.2914, -1.0], [0.1396, -1.5895, -1.0], [1.8457, 3.981, -1.0], [1.3641, 1.4805, -1.0], [1.6896, 1.4915, -1.0], [2.4093, 3.3871, -1.0], [-0.4493, 2.3974, -1.0], [1.5359, 0.3107, -1.0], [1.7621, 2.386, -1.0], [2.1315, -1.8701, -1.0], [1.4716, -0.424, -1.0], [2.088, 1.1743, -1.0], [3.0957, 0.6841, -1.0], [1.6319, -0.7627, -1.0], [0.3022, 2.3502, -1.0], [1.8546, 0.1549, -1.0], [1.1227, 1.4848, -1.0], [0.5983, -1.057, -1.0], [-0.5175, -1.5656, -1.0], [1.5125, -1.2139, -1.0], [2.2816, 1.7391, -1.0], [1.1818, 1.5757, -1.0], [1.0991, 0.6271, -1.0], [1.387, 0.582, -1.0], [2.8875, -0.4581, -1.0], [-1.5481, 4.027, -1.0], [2.1013, 2.4068, -1.0], [1.1428, 1.7744, -1.0], [-1.0076, 0.1449, -1.0], [0.7238, 1.6117, -1.0], [1.6498, -2.1629, -1.0], [1.5463, 0.1646, -1.0], [1.4325, 1.1291, -1.0], [1.1705, -0.8811, -1.0], [1.4513, 1.4176, -1.0], [0.9927, 1.2979, -1.0], [-1.4172, 3.908, -1.0], [0.0427, 1.6255, -1.0], [1.7118, 1.0556, -1.0], [1.2636, -0.3827, -1.0], [0.282, 3.02, -1.0], [1.5125, 1.0471, -1.0], [-0.0422, 3.2683, -1.0], [1.4634, 1.1189, -1.0], [1.8371, 2.229, -1.0], [2.2542, 0.7423, -1.0], [2.7927, 1.5321, -1.0], [0.9695, -0.8775, -1.0], [0.597, 0.2257, -1.0], [-0.4937, -0.5724, -1.0], [-0.5451, -1.3489, -1.0], [-0.1445, 0.3691, -1.0], [1.0911, 3.5077, -1.0], [0.2845, 0.1837, -1.0], [1.4757, 1.6031, -1.0], [1.3794, 3.4171, -1.0], [0.4157, 2.502, -1.0], [2.5158, 1.3358, -1.0], [-0.4174, 1.9927, -1.0], [1.2832, 3.5981, -1.0], [0.129, -1.2963, -1.0], [0.5302, 0.6728, -1.0], [-0.8238, 2.2651, -1.0], [0.0262, 3.0206, -1.0], [2.0586, 3.0589, -1.0], [1.4932, 3.2424, -1.0], [1.7179, 0.4939, -1.0], [1.6556, 1.5513, -1.0], [1.0296, 2.0626, -1.0], [-0.2384, -1.4949, -1.0], [1.8592, -0.7442, -1.0], [2.0072, -0.0832, -1.0], [-0.751, 0.0241, -1.0], [-0.0645, 2.2787, -1.0], [-0.6769, 0.5677, -1.0], [3.8848, 1.3007, -1.0], [0.7772, 0.4887, -1.0], [-0.9495, 1.6664, -1.0], [-0.0373, -1.1451, -1.0], [0.9901, 1.7992, -1.0], [3.1317, -1.4497, -1.0], [3.1359, 1.3764, -1.0], [1.5973, 2.4784, -1.0], [0.3944, -2.5013, -1.0]]\n"
          ],
          "name": "stdout"
        },
        {
          "output_type": "execute_result",
          "data": {
            "text/plain": [
              "(200, 3)"
            ]
          },
          "metadata": {
            "tags": []
          },
          "execution_count": 154
        }
      ]
    },
    {
      "cell_type": "markdown",
      "metadata": {
        "id": "bwcpa6yWsjZR",
        "colab_type": "text"
      },
      "source": [
        "**implementing nearest neighbour**"
      ]
    },
    {
      "cell_type": "code",
      "metadata": {
        "id": "DyC6U8q2sqLE",
        "colab_type": "code",
        "colab": {}
      },
      "source": [
        "\n",
        "def nearest_neighbour(rep):\n",
        "  rep=[]\n",
        "  for i in range(20):\n",
        "    rep.append(matrix[random.randint(0,no_of_ele-1)])\n",
        "  rep=np.array(rep)\n",
        "  covar_matrix=np.cov(np.transpose(matrix[:,:2]))\n",
        "  inv_covar_matrix=np.linalg.pinv(covar_matrix)\n",
        "  label=[]\n",
        "  for i in range(len(matrix_test)):\n",
        "    min_dist=9999\n",
        "    loc=0\n",
        "    \n",
        "    for j in range (20):\n",
        "      dist=scipy.spatial.distance.mahalanobis(matrix_test[i,:2],rep[j,:2],inv_covar_matrix)\n",
        "      if dist< min_dist:\n",
        "        min_dist=dist\n",
        "        loc=j\n",
        "    label.append(rep[loc,2])\n",
        "  count=0\n",
        "  for i in range(len(matrix_test)):\n",
        "    if int(label[i]) !=int(matrix_test[i,2]) :\n",
        "      count+=1\n",
        "  count/=len(matrix_test)\n",
        "\n",
        "\n",
        "  return 1-count\n",
        "\n"
      ],
      "execution_count": 0,
      "outputs": []
    },
    {
      "cell_type": "code",
      "metadata": {
        "id": "u1EpzCzi-dvA",
        "colab_type": "code",
        "outputId": "117135f1-1d5c-4e5c-e4ea-8d6abde3af6e",
        "colab": {
          "base_uri": "https://localhost:8080/",
          "height": 258
        }
      },
      "source": [
        "!pip install pomegranate"
      ],
      "execution_count": 0,
      "outputs": [
        {
          "output_type": "stream",
          "text": [
            "Collecting pomegranate\n",
            "\u001b[33m  WARNING: Retrying (Retry(total=4, connect=None, read=None, redirect=None, status=None)) after connection broken by 'ReadTimeoutError(\"HTTPSConnectionPool(host='files.pythonhosted.org', port=443): Read timed out. (read timeout=15)\",)': /packages/85/31/398cb5b1c338017cc7b158049c636122fc18c8e096d55247d7b240208e53/pomegranate-0.12.0-cp36-cp36m-manylinux1_x86_64.whl\u001b[0m\n",
            "\u001b[33m  WARNING: Retrying (Retry(total=3, connect=None, read=None, redirect=None, status=None)) after connection broken by 'ReadTimeoutError(\"HTTPSConnectionPool(host='files.pythonhosted.org', port=443): Read timed out. (read timeout=15)\",)': /packages/85/31/398cb5b1c338017cc7b158049c636122fc18c8e096d55247d7b240208e53/pomegranate-0.12.0-cp36-cp36m-manylinux1_x86_64.whl\u001b[0m\n",
            "\u001b[?25l  Downloading https://files.pythonhosted.org/packages/85/31/398cb5b1c338017cc7b158049c636122fc18c8e096d55247d7b240208e53/pomegranate-0.12.0-cp36-cp36m-manylinux1_x86_64.whl (5.6MB)\n",
            "\u001b[K     |████████████████████████████████| 5.6MB 2.8MB/s \n",
            "\u001b[?25hRequirement already satisfied: joblib>=0.9.0b4 in /usr/local/lib/python3.6/dist-packages (from pomegranate) (0.14.1)\n",
            "Requirement already satisfied: scipy>=0.17.0 in /usr/local/lib/python3.6/dist-packages (from pomegranate) (1.4.1)\n",
            "Requirement already satisfied: networkx>=2.0 in /usr/local/lib/python3.6/dist-packages (from pomegranate) (2.4)\n",
            "Requirement already satisfied: numpy>=1.8.0 in /usr/local/lib/python3.6/dist-packages (from pomegranate) (1.17.5)\n",
            "Requirement already satisfied: pyyaml in /usr/local/lib/python3.6/dist-packages (from pomegranate) (3.13)\n",
            "Requirement already satisfied: decorator>=4.3.0 in /usr/local/lib/python3.6/dist-packages (from networkx>=2.0->pomegranate) (4.4.1)\n",
            "Installing collected packages: pomegranate\n",
            "Successfully installed pomegranate-0.12.0\n"
          ],
          "name": "stdout"
        }
      ]
    },
    {
      "cell_type": "markdown",
      "metadata": {
        "id": "qTUge8-3Fwe3",
        "colab_type": "text"
      },
      "source": [
        "**implementing bayes classifier**"
      ]
    },
    {
      "cell_type": "code",
      "metadata": {
        "id": "xtK5Y10iFsQb",
        "colab_type": "code",
        "colab": {}
      },
      "source": [
        "def bayes_class_gauss(X,mu1,mu2,cov1,cov2,p1,p2):\n",
        "  cov_inv1=np.linalg.pinv(cov1)\n",
        "  cov_inv2=np.linalg.pinv(cov2)\n",
        "  label=0\n",
        "  label+=.5*np.transpose(X) @ (cov_inv1-cov_inv2) @ X\n",
        "  label+=np.transpose(X) @ (np.dot(cov_inv1,mu1)-np.dot(cov_inv2,mu2))\n",
        "  label+=.5*((np.transpose(mu2) @ cov_inv2 @ mu2 )-(np.transpose(mu1)@ cov_inv1 @ mu1)) \n",
        "  label+=math.log(p1/p2) + .5*math.log((np.linalg.det(cov2)/np.linalg.det(cov1)))\n",
        "  if label > 0 :\n",
        "    return 1\n",
        "  else :\n",
        "    return -1\n",
        "#bayes_class(matrix,[0,0],[1,1],[[1,0.5],[0.5,1]],[[1,0],[0,2]],.5,.5)"
      ],
      "execution_count": 0,
      "outputs": []
    },
    {
      "cell_type": "code",
      "metadata": {
        "id": "HbqL0oOAZ--D",
        "colab_type": "code",
        "outputId": "ff1b40b3-4ad4-49d4-f01b-fdccd3c67dfc",
        "colab": {
          "base_uri": "https://localhost:8080/",
          "height": 129
        }
      },
      "source": [
        "def bayes_class_gauss_lam(X,mu,cov,lamda):\n",
        "  cov_inv=np.linalg.pinv(cov)\n",
        "  label=0\n",
        "  label+=-.5*math.log((2*math.pi)**2 * np.linalg.det(cov))\n",
        "  label+=-.5*(np.transpose(X-mu) @ cov_inv @ (X-mu)\n",
        "  label+=-math.log(lamda[0]*lamda[1]) + lamda[0]*X[:,0] +lamda[1]*X[:,1]\n",
        "\n"
      ],
      "execution_count": 0,
      "outputs": [
        {
          "output_type": "error",
          "ename": "SyntaxError",
          "evalue": "ignored",
          "traceback": [
            "\u001b[0;36m  File \u001b[0;32m\"<ipython-input-163-8061cd87ce23>\"\u001b[0;36m, line \u001b[0;32m6\u001b[0m\n\u001b[0;31m    label+=-math.log(lamda[0]*lamda[1]) + lamda[0]*X[:,0] +lambda[1]*X[:,1]\u001b[0m\n\u001b[0m        ^\u001b[0m\n\u001b[0;31mSyntaxError\u001b[0m\u001b[0;31m:\u001b[0m invalid syntax\n"
          ]
        }
      ]
    },
    {
      "cell_type": "code",
      "metadata": {
        "id": "KvqkTdhEA70w",
        "colab_type": "code",
        "colab": {}
      },
      "source": [
        "def bayes_accuracy(ran,estimation_tech):\n",
        "  if estimation_tech=='ml':\n",
        "    cov1,cov2,mu1,mu2=est_cov(ran)\n",
        "  elif estimation_tech=='em':\n",
        "    cov1,cov2,mu1,mu2=em_algo()\n",
        "  # mu1=np.array([0,0])\n",
        "  # mu2=np.array([1,1])\n",
        "  # cov1=np.array([[1,.5],[.5,1]])\n",
        "  # cov2=np.array([[1,0],[0,2]])\n",
        "  p1=0\n",
        "  for i in range(len(matrix)):\n",
        "    if matrix[i][2]==1:\n",
        "      p1+=1\n",
        "  p1/=len(matrix)\n",
        "  p2=1-p1\n",
        "  #print(p1)\n",
        "  #p1=p2=.5\n",
        "  #print(bayes_class(matrix_test[1,:2],mu1,mu2,cov1,cov2,p1,p2))\n",
        "  label=[]\n",
        "  for i in range(len(matrix_test)):\n",
        "    label.append(bayes_class(matrix_test[i,:2],mu1,mu2,cov1,cov2,p1,p2))\n",
        "  count=0\n",
        "  for i in range(len(matrix_test)):\n",
        "    if int(label[i]) !=int(matrix_test[i,2]) :\n",
        "      count+=1\n",
        "  count/=len(matrix_test)\n",
        "\n",
        "\n",
        "  return 1-count\n"
      ],
      "execution_count": 0,
      "outputs": []
    },
    {
      "cell_type": "code",
      "metadata": {
        "id": "NVSYg44D8xWy",
        "colab_type": "code",
        "colab": {}
      },
      "source": [
        "def plot (approx,y,z,w):\n",
        "  import matplotlib.pyplot as plt\n",
        "  \n",
        "  plt.plot(approx,y,color='g')\n",
        "  plt.plot(approx,z)\n",
        "  plt.plot(approx,w,color='m')\n",
        "  plt.show()"
      ],
      "execution_count": 0,
      "outputs": []
    },
    {
      "cell_type": "code",
      "metadata": {
        "id": "OdSyGAAe70Lr",
        "colab_type": "code",
        "outputId": "37822c86-0d9b-46ef-bf9e-59c86cf8039f",
        "colab": {
          "base_uri": "https://localhost:8080/",
          "height": 1000
        }
      },
      "source": [
        "def driver():\n",
        "  approx=[10,25,75,150,199]\n",
        "  y=[]\n",
        "  z=[]\n",
        "  w=[]\n",
        "  for i in approx :\n",
        "    ran=random_gen(i)\n",
        "    y.append(bayes_accuracy(ran,'ml'))\n",
        "    z.append(nearest_neighbour(ran))\n",
        "    w.append(bayes_accuracy(ran,'em'))\n",
        "  plot(approx,y,z,w)\n",
        "\n",
        "driver()\n"
      ],
      "execution_count": 0,
      "outputs": [
        {
          "output_type": "stream",
          "text": [
            "[-0.13746000000000003, -0.26424000000000003]\n",
            "[[ 0.03481505 -0.15474018]\n",
            " [ 1.03045405  1.18611765]]\n",
            "\n",
            "\n",
            "[[[ 0.93001366  0.50131456]\n",
            "  [ 0.50131456  0.84177485]]\n",
            "\n",
            " [[ 1.21097174 -0.16445817]\n",
            "  [-0.16445817  2.2168238 ]]]\n",
            "[-0.046854545454545454, 0.44820909090909083]\n",
            "[[ 0.03481505 -0.15474018]\n",
            " [ 1.03045405  1.18611765]]\n",
            "\n",
            "\n",
            "[[[ 0.93001366  0.50131456]\n",
            "  [ 0.50131456  0.84177485]]\n",
            "\n",
            " [[ 1.21097174 -0.16445817]\n",
            "  [-0.16445817  2.2168238 ]]]\n",
            "[0.13447619047619047, 0.23902380952380953]\n",
            "[[ 0.02897151 -0.15887885]\n",
            " [ 1.02796558  1.17935975]]\n",
            "\n",
            "\n",
            "[[[ 0.92579633  0.50117093]\n",
            "  [ 0.50117093  0.83740869]]\n",
            "\n",
            " [[ 1.20974261 -0.15955982]\n",
            "  [-0.15955982  2.21393813]]]\n",
            "[0.06722173913043479, 0.01936666666666666]\n",
            "[[ 0.02897151 -0.15887885]\n",
            " [ 1.02796558  1.17935975]]\n",
            "\n",
            "\n",
            "[[[ 0.92579633  0.50117093]\n",
            "  [ 0.50117093  0.83740869]]\n",
            "\n",
            " [[ 1.20974261 -0.15955982]\n",
            "  [-0.15955982  2.21393813]]]\n",
            "[0.09090909090909091, 0.0334212121212121]\n",
            "[[ 1.02796558  1.17935975]\n",
            " [ 0.02897151 -0.15887885]]\n",
            "\n",
            "\n",
            "[[[ 1.20974261 -0.15955982]\n",
            "  [-0.15955982  2.21393813]]\n",
            "\n",
            " [[ 0.92579633  0.50117093]\n",
            "  [ 0.50117093  0.83740869]]]\n"
          ],
          "name": "stdout"
        },
        {
          "output_type": "display_data",
          "data": {
            "image/png": "[encoded data removed]",
            "text/plain": [
              "<Figure size 432x288 with 1 Axes>"
            ]
          },
          "metadata": {
            "tags": []
          }
        }
      ]
    },
    {
      "cell_type": "markdown",
      "metadata": {
        "id": "gn3HBgPX_t4C",
        "colab_type": "text"
      },
      "source": [
        "**implementing in scikitlearn**"
      ]
    },
    {
      "cell_type": "code",
      "metadata": {
        "id": "jn5qoDND_ryg",
        "colab_type": "code",
        "outputId": "8ea925c5-908b-499e-a8b0-d70a896e7a97",
        "colab": {
          "base_uri": "https://localhost:8080/",
          "height": 34
        }
      },
      "source": [
        "from sklearn.naive_bayes import GaussianNB\n",
        "gnb = GaussianNB()\n",
        "y_pred = gnb.fit(matrix[:,:2],matrix[:,2]).predict(matrix_test[:,:2])\n",
        "print((matrix[:,2] != y_pred).sum())"
      ],
      "execution_count": 0,
      "outputs": [
        {
          "output_type": "stream",
          "text": [
            "48\n"
          ],
          "name": "stdout"
        }
      ]
    },
    {
      "cell_type": "markdown",
      "metadata": {
        "id": "gutaljOrCCqb",
        "colab_type": "text"
      },
      "source": [
        "@article{scikit-learn,\n",
        " title={Scikit-learn: Machine Learning in {P}ython},\n",
        " author={Pedregosa, F. and Varoquaux, G. and Gramfort, A. and Michel, V.\n",
        "         and Thirion, B. and Grisel, O. and Blondel, M. and Prettenhofer, P.\n",
        "         and Weiss, R. and Dubourg, V. and Vanderplas, J. and Passos, A. and\n",
        "         Cournapeau, D. and Brucher, M. and Perrot, M. and Duchesnay, E.},\n",
        " journal={Journal of Machine Learning Research},\n",
        " volume={12},\n",
        " pages={2825--2830},\n",
        " year={2011}\n",
        "}"
      ]
    },
    {
      "cell_type": "markdown",
      "metadata": {
        "id": "mFkIhArFAKcz",
        "colab_type": "text"
      },
      "source": [
        "**em algorithm gaussian mixture modelusing skitlearn**"
      ]
    },
    {
      "cell_type": "code",
      "metadata": {
        "id": "Xc_mWr1-ASqg",
        "colab_type": "code",
        "outputId": "8ee766c0-a43d-4dbd-e8d0-4a32a176f0d2",
        "colab": {
          "base_uri": "https://localhost:8080/",
          "height": 456
        }
      },
      "source": [
        "import numpy as np\n",
        "import itertools\n",
        "\n",
        "from scipy import linalg\n",
        "import matplotlib.pyplot as plt\n",
        "import matplotlib as mpl\n",
        "\n",
        "from sklearn import mixture\n",
        "\n",
        "print(__doc__)\n",
        "\n",
        "# Number of samples per component\n",
        "n_samples = 50\n",
        "\n",
        "# Generate random sample, two components\n",
        "np.random.seed(0)\n",
        "C = np.array([[0., -0.1], [1.7, .4]])\n",
        "X = np.r_[np.dot(np.random.randn(n_samples, 2), C),\n",
        "          .7 * np.random.randn(n_samples, 2) + np.array([-6, 3])]\n",
        "print(X.shape)\n",
        "matrix=np.array(matrix)\n",
        "#X=matrix[:100,:2]\n",
        "#print(X.shape)\n",
        "lowest_bic = np.infty\n",
        "bic = []\n",
        "n_components_range = range(1, 7)\n",
        "cv_types = ['spherical', 'tied', 'diag', 'full']\n",
        "for cv_type in cv_types:\n",
        "    for n_components in n_components_range:\n",
        "        # Fit a Gaussian mixture with EM\n",
        "        gmm = mixture.GaussianMixture(n_components=n_components,\n",
        "                                      covariance_type=cv_type)\n",
        "        gmm.fit(X)\n",
        "        bic.append(gmm.bic(X))\n",
        "        if bic[-1] < lowest_bic:\n",
        "            lowest_bic = bic[-1]\n",
        "            best_gmm = gmm\n",
        "\n",
        "bic = np.array(bic)\n",
        "color_iter = itertools.cycle(['navy', 'turquoise', 'cornflowerblue',\n",
        "                              'darkorange'])\n",
        "clf = best_gmm\n",
        "bars = []\n",
        "\n",
        "# Plot the BIC scores\n",
        "plt.figure(figsize=(8, 6))\n",
        "spl = plt.subplot(2, 1, 1)\n",
        "for i, (cv_type, color) in enumerate(zip(cv_types, color_iter)):\n",
        "    xpos = np.array(n_components_range) + .2 * (i - 2)\n",
        "    bars.append(plt.bar(xpos, bic[i * len(n_components_range):\n",
        "                                  (i + 1) * len(n_components_range)],\n",
        "                        width=.2, color=color))\n",
        "plt.xticks(n_components_range)\n",
        "plt.ylim([bic.min() * 1.01 - .01 * bic.max(), bic.max()])\n",
        "plt.title('BIC score per model')\n",
        "xpos = np.mod(bic.argmin(), len(n_components_range)) + .65 +\\\n",
        "    .2 * np.floor(bic.argmin() / len(n_components_range))\n",
        "plt.text(xpos, bic.min() * 0.97 + .03 * bic.max(), '*', fontsize=14)\n",
        "spl.set_xlabel('Number of components')\n",
        "spl.legend([b[0] for b in bars], cv_types)\n",
        "\n",
        "# Plot the winner\n",
        "splot = plt.subplot(2, 1, 2)\n",
        "Y_ = clf.predict(X)\n",
        "for i, (mean, cov, color) in enumerate(zip(clf.means_, clf.covariances_,\n",
        "                                           color_iter)):\n",
        "    v, w = linalg.eigh(cov)\n",
        "    if not np.any(Y_ == i):\n",
        "        continue\n",
        "    plt.scatter(X[Y_ == i, 0], X[Y_ == i, 1], .8, color=color)\n",
        "\n",
        "    # Plot an ellipse to show the Gaussian component\n",
        "    angle = np.arctan2(w[0][1], w[0][0])\n",
        "    angle = 180. * angle / np.pi  # convert to degrees\n",
        "    v = 2. * np.sqrt(2.) * np.sqrt(v)\n",
        "    ell = mpl.patches.Ellipse(mean, v[0], v[1], 180. + angle, color=color)\n",
        "    ell.set_clip_box(splot.bbox)\n",
        "    ell.set_alpha(.5)\n",
        "    splot.add_artist(ell)\n",
        "\n",
        "plt.xticks(())\n",
        "plt.yticks(())\n",
        "plt.title('Selected GMM: full model, 2 components')\n",
        "plt.subplots_adjust(hspace=.35, bottom=.02)\n",
        "plt.show()\n"
      ],
      "execution_count": 0,
      "outputs": [
        {
          "output_type": "stream",
          "text": [
            "Automatically created module for IPython interactive environment\n",
            "(100, 2)\n"
          ],
          "name": "stdout"
        },
        {
          "output_type": "display_data",
          "data": {
            "image/png": "[encoded data removed]",
            "text/plain": [
              "<Figure size 576x432 with 2 Axes>"
            ]
          },
          "metadata": {
            "tags": []
          }
        }
      ]
    },
    {
      "cell_type": "code",
      "metadata": {
        "id": "83KYtyA9Tkg1",
        "colab_type": "code",
        "colab": {}
      },
      "source": [
        ""
      ],
      "execution_count": 0,
      "outputs": []
    }
  ]
}