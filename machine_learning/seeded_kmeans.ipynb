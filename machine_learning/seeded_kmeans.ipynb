{
  "nbformat": 4,
  "nbformat_minor": 0,
  "metadata": {
    "colab": {
      "name": "seeded kmeans.ipynb",
      "provenance": []
    },
    "kernelspec": {
      "name": "python3",
      "display_name": "Python 3"
    }
  },
  "cells": [
    {
      "cell_type": "code",
      "metadata": {
        "id": "X8ihxo6NWSB5",
        "colab_type": "code",
        "outputId": "79e4906f-1cc7-4b67-d437-e21ddac70b55",
        "colab": {
          "base_uri": "https://localhost:8080/",
          "height": 275
        }
      },
      "source": [
        "!pip install active-semi-supervised-clustering"
      ],
      "execution_count": 0,
      "outputs": [
        {
          "output_type": "stream",
          "text": [
            "Collecting active-semi-supervised-clustering\n",
            "\u001b[?25l  Downloading https://files.pythonhosted.org/packages/e5/73/4eb6a2966b94de7ca401d87de4104015bf3c911df0434bd99e1eeac67a84/active_semi_supervised_clustering-0.0.1-py3-none-any.whl (40kB)\n",
            "\u001b[K     |████████████████████████████████| 40kB 2.4MB/s \n",
            "\u001b[?25hCollecting metric-learn>=0.4\n",
            "\u001b[?25l  Downloading https://files.pythonhosted.org/packages/30/90/b2f12dc3363dc4d90081df084aad71e9d5f1d933cc9215809def8bf98159/metric_learn-0.5.0-py2.py3-none-any.whl (60kB)\n",
            "\u001b[K     |████████████████████████████████| 61kB 3.7MB/s \n",
            "\u001b[?25hRequirement already satisfied: scikit-learn in /usr/local/lib/python3.6/dist-packages (from active-semi-supervised-clustering) (0.22.1)\n",
            "Requirement already satisfied: numpy in /usr/local/lib/python3.6/dist-packages (from active-semi-supervised-clustering) (1.17.5)\n",
            "Requirement already satisfied: scipy in /usr/local/lib/python3.6/dist-packages (from active-semi-supervised-clustering) (1.4.1)\n",
            "Requirement already satisfied: six in /usr/local/lib/python3.6/dist-packages (from metric-learn>=0.4->active-semi-supervised-clustering) (1.12.0)\n",
            "Requirement already satisfied: joblib>=0.11 in /usr/local/lib/python3.6/dist-packages (from scikit-learn->active-semi-supervised-clustering) (0.14.1)\n",
            "Installing collected packages: metric-learn, active-semi-supervised-clustering\n",
            "Successfully installed active-semi-supervised-clustering-0.0.1 metric-learn-0.5.0\n"
          ],
          "name": "stdout"
        }
      ]
    },
    {
      "cell_type": "code",
      "metadata": {
        "id": "ZoNV164PWw4o",
        "colab_type": "code",
        "outputId": "b740e86f-adcd-4731-8887-f26aaa342500",
        "colab": {
          "base_uri": "https://localhost:8080/",
          "height": 146
        }
      },
      "source": [
        "from active_semi_clustering.semi_supervised.labeled_data"
      ],
      "execution_count": 0,
      "outputs": [
        {
          "output_type": "error",
          "ename": "SyntaxError",
          "evalue": "ignored",
          "traceback": [
            "\u001b[0;36m  File \u001b[0;32m\"<ipython-input-5-33588901b182>\"\u001b[0;36m, line \u001b[0;32m1\u001b[0m\n\u001b[0;31m    from active_semi_clustering.semi_supervised.labeled_data\u001b[0m\n\u001b[0m                                                            ^\u001b[0m\n\u001b[0;31mSyntaxError\u001b[0m\u001b[0;31m:\u001b[0m invalid syntax\n"
          ]
        }
      ]
    }
  ]
}