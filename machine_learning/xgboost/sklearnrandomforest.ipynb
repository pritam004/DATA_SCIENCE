{
  "nbformat": 4,
  "nbformat_minor": 0,
  "metadata": {
    "colab": {
      "name": "sklearnrandomforest.ipynb",
      "provenance": []
    },
    "kernelspec": {
      "name": "python3",
      "display_name": "Python 3"
    },
    "accelerator": "GPU"
  },
  "cells": [
    {
      "cell_type": "code",
      "metadata": {
        "id": "2tp4XZUz0XNB",
        "colab_type": "code",
        "outputId": "6462e533-3934-4a57-d0ab-e39e2aab207b",
        "colab": {
          "base_uri": "https://localhost:8080/",
          "height": 122
        }
      },
      "source": [
        "from google.colab import drive\n",
        "\n",
        "drive.mount('/content/gdrive' ,force_remount=True)"
      ],
      "execution_count": 0,
      "outputs": [
        {
          "output_type": "stream",
          "text": [
            "Go to this URL in a browser: https://accounts.google.com/o/oauth2/auth?client_id=947318989803-6bn6qk8qdgf4n4g3pfee6491hc0brc4i.apps.googleusercontent.com&redirect_uri=urn%3aietf%3awg%3aoauth%3a2.0%3aoob&response_type=code&scope=email%20https%3a%2f%2fwww.googleapis.com%2fauth%2fdocs.test%20https%3a%2f%2fwww.googleapis.com%2fauth%2fdrive%20https%3a%2f%2fwww.googleapis.com%2fauth%2fdrive.photos.readonly%20https%3a%2f%2fwww.googleapis.com%2fauth%2fpeopleapi.readonly\n",
            "\n",
            "Enter your authorization code:\n",
            "··········\n",
            "Mounted at /content/gdrive\n"
          ],
          "name": "stdout"
        }
      ]
    },
    {
      "cell_type": "code",
      "metadata": {
        "id": "lWW5P_stz0c3",
        "colab_type": "code",
        "outputId": "121094c9-dc30-46c4-c1b9-30f3cc526927",
        "colab": {
          "base_uri": "https://localhost:8080/",
          "height": 1000
        }
      },
      "source": [
        "import xgboost as xgb\n",
        "import pandas as pd\n",
        "import numpy as np\n",
        "from sklearn.svm import SVR\n",
        "from xgboost import XGBRegressor\n",
        "from sklearn.metrics import mean_squared_error as mse\n",
        "from sklearn.ensemble import RandomForestRegressor as rfr\n",
        "\n",
        "data=pd.read_csv(\"/content/gdrive/My Drive/datasets/pdsass3/years.train\",header=None)\n",
        "data=data.to_numpy()\n",
        "labels=data[:,0]\n",
        "data=data[:,1:]\n",
        "from sklearn.preprocessing import normalize\n",
        "data=normalize(data)\n",
        "\n",
        "train_data=data[:300000]\n",
        "train_label=labels[:300000]\n",
        "test_data=data[300000:]\n",
        "test_label=labels[300000:]\n",
        "\n",
        "dtrain = xgb.DMatrix(train_data, label=train_label)\n",
        "dtest = xgb.DMatrix(test_data, label=test_label)\n",
        "\n",
        "\n",
        "\n",
        "param = {'max_depth': 1, 'eta': 1, 'objective': 'reg:squarederror'}\n",
        "evallist = [(dtest, 'eval'), (dtrain, 'train')]\n",
        "\n",
        "num_round = 5000\n",
        "#bst = xgb.train(param, dtrain, num_round, evallist,early_stopping_rounds=10)\n",
        "model=rfr(verbose=2,n_jobs=10).fit(train_data,train_label)\n",
        "#dt = xgb.DMatrix(test_data)\n",
        "#ypred = bst.predict(dt)\n",
        "ypred=model.predict(test_data)\n",
        "\n",
        "\n",
        "\n",
        "\n",
        "print(str(ypred)+\"   \"+str(test_data))\n",
        "print(np.sqrt(mse(ypred,test_label)))"
      ],
      "execution_count": 0,
      "outputs": [
        {
          "output_type": "stream",
          "text": [
            "[Parallel(n_jobs=10)]: Using backend ThreadingBackend with 10 concurrent workers.\n"
          ],
          "name": "stderr"
        },
        {
          "output_type": "stream",
          "text": [
            "building tree 1 of 100\n",
            "building tree 2 of 100building tree 3 of 100building tree 5 of 100building tree 4 of 100building tree 6 of 100building tree 7 of 100building tree 8 of 100building tree 9 of 100\n",
            "\n",
            "\n",
            "\n",
            "\n",
            "\n",
            "\n",
            "\n",
            "building tree 10 of 100\n",
            "building tree 11 of 100\n",
            "building tree 12 of 100\n",
            "building tree 13 of 100\n",
            "building tree 14 of 100\n",
            "building tree 15 of 100\n",
            "building tree 16 of 100\n",
            "building tree 17 of 100\n",
            "building tree 18 of 100\n",
            "building tree 19 of 100\n",
            "building tree 20 of 100\n",
            "building tree 21 of 100\n",
            "building tree 22 of 100\n",
            "building tree 23 of 100\n",
            "building tree 24 of 100\n",
            "building tree 25 of 100\n",
            "building tree 26 of 100\n",
            "building tree 27 of 100\n",
            "building tree 28 of 100\n",
            "building tree 29 of 100\n",
            "building tree 30 of 100\n"
          ],
          "name": "stdout"
        },
        {
          "output_type": "stream",
          "text": [
            "[Parallel(n_jobs=10)]: Done  21 tasks      | elapsed: 14.9min\n"
          ],
          "name": "stderr"
        },
        {
          "output_type": "stream",
          "text": [
            "building tree 31 of 100\n",
            "building tree 32 of 100\n",
            "building tree 33 of 100\n",
            "building tree 34 of 100\n",
            "building tree 35 of 100\n",
            "building tree 36 of 100\n",
            "building tree 37 of 100\n",
            "building tree 38 of 100\n",
            "building tree 39 of 100\n",
            "building tree 40 of 100\n",
            "building tree 41 of 100\n",
            "building tree 42 of 100\n",
            "building tree 43 of 100\n",
            "building tree 44 of 100\n",
            "building tree 45 of 100\n",
            "building tree 46 of 100\n",
            "building tree 47 of 100\n",
            "building tree 48 of 100\n",
            "building tree 49 of 100\n",
            "building tree 50 of 100\n",
            "building tree 51 of 100\n",
            "building tree 52 of 100\n",
            "building tree 53 of 100\n",
            "building tree 54 of 100\n",
            "building tree 55 of 100\n",
            "building tree 56 of 100\n",
            "building tree 57 of 100\n",
            "building tree 58 of 100\n",
            "building tree 59 of 100\n",
            "building tree 60 of 100\n",
            "building tree 61 of 100\n",
            "building tree 62 of 100\n",
            "building tree 63 of 100\n",
            "building tree 64 of 100\n",
            "building tree 65 of 100\n",
            "building tree 66 of 100\n",
            "building tree 67 of 100\n",
            "building tree 68 of 100\n",
            "building tree 69 of 100\n",
            "building tree 70 of 100\n",
            "building tree 71 of 100\n",
            "building tree 72 of 100\n",
            "building tree 73 of 100\n",
            "building tree 74 of 100\n",
            "building tree 75 of 100\n",
            "building tree 76 of 100\n",
            "building tree 77 of 100\n",
            "building tree 78 of 100\n",
            "building tree 79 of 100\n",
            "building tree 80 of 100\n",
            "building tree 81 of 100\n",
            "building tree 82 of 100\n",
            "building tree 83 of 100\n",
            "building tree 84 of 100\n",
            "building tree 85 of 100\n",
            "building tree 86 of 100\n",
            "building tree 87 of 100\n",
            "building tree 88 of 100\n",
            "building tree 89 of 100\n",
            "building tree 90 of 100\n",
            "building tree 91 of 100\n",
            "building tree 92 of 100\n",
            "building tree 93 of 100\n",
            "building tree 94 of 100\n",
            "building tree 95 of 100\n",
            "building tree 96 of 100\n",
            "building tree 97 of 100\n",
            "building tree 98 of 100\n",
            "building tree 99 of 100\n",
            "building tree 100 of 100\n"
          ],
          "name": "stdout"
        },
        {
          "output_type": "stream",
          "text": [
            "[Parallel(n_jobs=10)]: Done 100 out of 100 | elapsed: 50.9min finished\n",
            "[Parallel(n_jobs=10)]: Using backend ThreadingBackend with 10 concurrent workers.\n",
            "[Parallel(n_jobs=10)]: Done  21 tasks      | elapsed:    2.2s\n"
          ],
          "name": "stderr"
        },
        {
          "output_type": "stream",
          "text": [
            "[2003.8  2001.58 2003.46 ... 1997.35 2000.28 1995.15]   [[ 3.26336767e-03 -4.79723552e-03 -4.24108946e-03 ... -1.50481822e-03\n",
            "   2.11054179e-02  3.54570484e-03]\n",
            " [ 4.72146498e-03  5.95630399e-04 -1.16274771e-03 ...  6.32592205e-04\n",
            "  -8.38005253e-03  3.22472165e-04]\n",
            " [ 2.92695603e-03  4.53396398e-03 -5.48153380e-03 ...  7.28299892e-03\n",
            "  -7.40298981e-04 -1.67026163e-03]\n",
            " ...\n",
            " [ 2.07599082e-02  7.60347825e-04  1.78545019e-02 ... -2.05815201e-03\n",
            "   1.04928617e-02 -1.92222775e-03]\n",
            " [ 1.03412238e-02  3.25935679e-03 -1.31477803e-03 ...  2.66568692e-03\n",
            "   2.45622309e-02  3.87245250e-03]\n",
            " [ 6.19236466e-02  8.25932714e-03  6.65185865e-02 ...  4.64822263e-03\n",
            "  -5.28506565e-02  6.49483212e-05]]\n",
            "9.80213260308486\n"
          ],
          "name": "stdout"
        },
        {
          "output_type": "stream",
          "text": [
            "[Parallel(n_jobs=10)]: Done 100 out of 100 | elapsed:    7.1s finished\n"
          ],
          "name": "stderr"
        }
      ]
    },
    {
      "cell_type": "code",
      "metadata": {
        "id": "HOdHBKJZDM4z",
        "colab_type": "code",
        "outputId": "4425c72f-88e1-4489-b780-3e315b45ecb4",
        "colab": {
          "base_uri": "https://localhost:8080/",
          "height": 306
        }
      },
      "source": [
        "ypred=model.predict(test_data)\n",
        "\n",
        "\n",
        "\n",
        "\n",
        "print(str(ypred)+\"   \"+str(test_data))\n",
        "print(np.sqrt(mse(ypred,test_label)))"
      ],
      "execution_count": 0,
      "outputs": [
        {
          "output_type": "stream",
          "text": [
            "[Parallel(n_jobs=10)]: Using backend ThreadingBackend with 10 concurrent workers.\n",
            "[Parallel(n_jobs=10)]: Done  21 tasks      | elapsed:    2.1s\n"
          ],
          "name": "stderr"
        },
        {
          "output_type": "stream",
          "text": [
            "[2003.8  2001.58 2003.46 ... 1997.35 2000.28 1995.15]   [[ 3.26336767e-03 -4.79723552e-03 -4.24108946e-03 ... -1.50481822e-03\n",
            "   2.11054179e-02  3.54570484e-03]\n",
            " [ 4.72146498e-03  5.95630399e-04 -1.16274771e-03 ...  6.32592205e-04\n",
            "  -8.38005253e-03  3.22472165e-04]\n",
            " [ 2.92695603e-03  4.53396398e-03 -5.48153380e-03 ...  7.28299892e-03\n",
            "  -7.40298981e-04 -1.67026163e-03]\n",
            " ...\n",
            " [ 2.07599082e-02  7.60347825e-04  1.78545019e-02 ... -2.05815201e-03\n",
            "   1.04928617e-02 -1.92222775e-03]\n",
            " [ 1.03412238e-02  3.25935679e-03 -1.31477803e-03 ...  2.66568692e-03\n",
            "   2.45622309e-02  3.87245250e-03]\n",
            " [ 6.19236466e-02  8.25932714e-03  6.65185865e-02 ...  4.64822263e-03\n",
            "  -5.28506565e-02  6.49483212e-05]]\n",
            "9.80213260308486\n"
          ],
          "name": "stdout"
        },
        {
          "output_type": "stream",
          "text": [
            "[Parallel(n_jobs=10)]: Done 100 out of 100 | elapsed:    6.9s finished\n"
          ],
          "name": "stderr"
        }
      ]
    }
  ]
}