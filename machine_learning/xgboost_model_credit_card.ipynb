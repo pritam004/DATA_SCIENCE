{
  "nbformat": 4,
  "nbformat_minor": 0,
  "metadata": {
    "colab": {
      "name": "xgboost_model_credit_card.ipynb",
      "provenance": []
    },
    "kernelspec": {
      "name": "python3",
      "display_name": "Python 3"
    },
    "accelerator": "GPU"
  },
  "cells": [
    {
      "cell_type": "markdown",
      "metadata": {
        "id": "93Xg9KSXTEC4",
        "colab_type": "text"
      },
      "source": [
        "In this assignment, you are going to build a regression model. Here, you are given a training set containing samples\n",
        "with 90 input features and one integer-valued label – the associated year. From this, you have to learn a model that\n",
        "predicts the label (i.e. the year), given the 90 input attributes of input test samples."
      ]
    },
    {
      "cell_type": "code",
      "metadata": {
        "id": "0Pk_yLKHpyBg",
        "colab_type": "code",
        "outputId": "2abf1303-975c-4732-cc4e-8bf3cb3de019",
        "colab": {
          "base_uri": "https://localhost:8080/",
          "height": 125
        }
      },
      "source": [
        "from google.colab import drive\n",
        "\n",
        "drive.mount('/content/gdrive' ,force_remount=True)"
      ],
      "execution_count": 1,
      "outputs": [
        {
          "output_type": "stream",
          "text": [
            "Go to this URL in a browser: https://accounts.google.com/o/oauth2/auth?client_id=947318989803-6bn6qk8qdgf4n4g3pfee6491hc0brc4i.apps.googleusercontent.com&redirect_uri=urn%3aietf%3awg%3aoauth%3a2.0%3aoob&response_type=code&scope=email%20https%3a%2f%2fwww.googleapis.com%2fauth%2fdocs.test%20https%3a%2f%2fwww.googleapis.com%2fauth%2fdrive%20https%3a%2f%2fwww.googleapis.com%2fauth%2fdrive.photos.readonly%20https%3a%2f%2fwww.googleapis.com%2fauth%2fpeopleapi.readonly\n",
            "\n",
            "Enter your authorization code:\n",
            "··········\n",
            "Mounted at /content/gdrive\n"
          ],
          "name": "stdout"
        }
      ]
    },
    {
      "cell_type": "markdown",
      "metadata": {
        "id": "pkG5-9B3YjjB",
        "colab_type": "text"
      },
      "source": [
        "Building our model from XGBOOST...using ensemble methods\n",
        "\n",
        "this model used gpu acceleration methods and will not run on a machine without gpu support\n",
        "\n",
        "\n",
        "required xgboost version is 1.1.0"
      ]
    },
    {
      "cell_type": "code",
      "metadata": {
        "id": "9zSTCY5mpxKL",
        "colab_type": "code",
        "outputId": "8cc55bcb-092e-4fcd-e6b6-cf4734646824",
        "colab": {
          "base_uri": "https://localhost:8080/",
          "height": 34
        }
      },
      "source": [
        "import xgboost as xgb\n",
        "from sklearn.metrics import mean_squared_error as mse\n",
        "import pandas as pd\n",
        "import numpy as np\n",
        "from sklearn.model_selection import train_test_split\n",
        "\n",
        "data = pd.read_csv(\"/content/gdrive/My Drive/datasets/pdsass3/years.train\", header = None)\n",
        "\n",
        "X, y = data.iloc[:,1:91],data.iloc[:,0]\n",
        "\n",
        "\n",
        "\n",
        "X_train, X_test, y_train, y_test = train_test_split(X, y, test_size=0.1, random_state=1)\n",
        "\n",
        "# print(X.shape)\n",
        "\n",
        "xgbreg = xgb.XGBRegressor(objective = \"reg:squarederror\", n_estimators = 2000, reg_lambda = 2000, booster = \"gbtree\", learning_rate = 0.1, max_depth = 25, min_child_weight = 4, tree_method = \"gpu_hist\", nthread = -1)\n",
        "\n",
        "\n",
        "print(X_train.shape)\n",
        "\n",
        "xgbreg.fit(X_train,y_train)\n",
        "\n",
        "preds = xgbreg.predict(X_test)\n",
        "\n",
        "rmse = np.sqrt(mean_squared_error(y_test, preds))\n",
        "\n",
        "\n",
        "\n",
        "print(\"RMSE of the data is : %f\" % (rmse))\n",
        "                                                                                                                                                                                                                                                                                                                                                                                                                                                                                                                             \n"
      ],
      "execution_count": 0,
      "outputs": [
        {
          "output_type": "stream",
          "text": [
            "(417343, 90)\n"
          ],
          "name": "stdout"
        }
      ]
    },
    {
      "cell_type": "code",
      "metadata": {
        "id": "QhthhoNRZlh_",
        "colab_type": "code",
        "colab": {}
      },
      "source": [
        ""
      ],
      "execution_count": 0,
      "outputs": []
    },
    {
      "cell_type": "markdown",
      "metadata": {
        "id": "5TvHbf9nYtKf",
        "colab_type": "text"
      },
      "source": [
        "Saving the model using pickle for further use"
      ]
    },
    {
      "cell_type": "code",
      "metadata": {
        "id": "VclVIxnIwSp0",
        "colab_type": "code",
        "colab": {}
      },
      "source": [
        "import pickle\n",
        "\n",
        "\n",
        "\n",
        "pickle.dump(xg_reg, open(\"/content/gdrive/My Drive/datasets/pdsass3/years.pkl\", \"wb\"))"
      ],
      "execution_count": 0,
      "outputs": []
    },
    {
      "cell_type": "markdown",
      "metadata": {
        "id": "7QiJ_WQyYyvg",
        "colab_type": "text"
      },
      "source": [
        "checking the accuracy from the saved model"
      ]
    },
    {
      "cell_type": "code",
      "metadata": {
        "id": "fdTirb4OHv9i",
        "colab_type": "code",
        "colab": {}
      },
      "source": [
        "import pandas as pd\n",
        "import pickle\n",
        "import sys\n",
        "\n",
        "\n",
        "\n",
        "\n",
        "ip_path=\"/content/gdrive/My Drive/datasets/pdsass3/years.test\"\n",
        "op_path=\"/content/gdrive/My Drive/datasets/pdsass3/years.pred\"\n",
        "filename=\"/content/gdrive/My Drive/datasets/pdsass3/years.pkl\"\n",
        "\n",
        "data=pd.read_csv(ip_path,header=None)\n",
        "data.columns=[i+1 for i in range (90)]\n",
        "loaded_model = pickle.load(open(filename, 'rb'))\n",
        "out=loaded_model.predict(data)\n",
        "\n",
        "with open(op_path, 'w') as f:\n",
        "        for item in out:\n",
        "            f.write(\"%s\\n\" % item)\n"
      ],
      "execution_count": 0,
      "outputs": []
    }
  ]
}